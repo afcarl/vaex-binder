{
 "cells": [
  {
   "cell_type": "code",
   "execution_count": null,
   "metadata": {
    "collapsed": true
   },
   "outputs": [],
   "source": [
    "import vaex as vx\n",
    "%matplotlib inline"
   ]
  },
  {
   "cell_type": "markdown",
   "metadata": {},
   "source": [
    "# Download the Gaia DR1 dataset (actually TGAS)"
   ]
  },
  {
   "cell_type": "code",
   "execution_count": null,
   "metadata": {
    "collapsed": false
   },
   "outputs": [],
   "source": [
    "ds = vx.datasets.tgas.fetch()"
   ]
  },
  {
   "cell_type": "markdown",
   "metadata": {},
   "source": [
    "# This shows the distribution of Gaia DR1 (TGAS) sources on the sky"
   ]
  },
  {
   "cell_type": "code",
   "execution_count": null,
   "metadata": {
    "collapsed": false
   },
   "outputs": [],
   "source": [
    "ds.plot(\"l\", \"b\", colormap=\"binary_r\", what=\"count(*)\", vmin=0, vmax=400)"
   ]
  },
  {
   "cell_type": "markdown",
   "metadata": {},
   "source": [
    "# We convert l, b and parallax to cartesial x, y and z"
   ]
  },
  {
   "cell_type": "code",
   "execution_count": null,
   "metadata": {
    "collapsed": false
   },
   "outputs": [],
   "source": [
    "ds.add_virtual_columns_spherical_to_cartesian(\"l\", \"b\", \"1/parallax\", radians=False)"
   ]
  },
  {
   "cell_type": "markdown",
   "metadata": {},
   "source": [
    "# And plot it"
   ]
  },
  {
   "cell_type": "code",
   "execution_count": null,
   "metadata": {
    "collapsed": false
   },
   "outputs": [],
   "source": [
    "ds.plot([[\"x\", \"y\"], [\"x\", \"z\"]], figsize=(14,7), limits=[-3,3], f=\"log\")"
   ]
  },
  {
   "cell_type": "markdown",
   "metadata": {},
   "source": [
    "# Interactivity in the notebook with bqplot (very preliminary)\n",
    "This is using [bqplot](https://github.com/bloomberg/bqplot), currently the first panel doesn't render, zoom in and out once. Selections done in one panel get updated in the other."
   ]
  },
  {
   "cell_type": "code",
   "execution_count": null,
   "metadata": {
    "collapsed": false
   },
   "outputs": [],
   "source": [
    "p1 = ds.plot_bq(\"parallax/parallax_error\", \"sqrt(pmra_error**2+pmdec_error**2)\", tool_select=True)\n",
    "p2 = ds.plot_bq(\"x\", \"z\", limits=[[-10, 10], [-10, 10]], tool_select=True)\n",
    "import ipywidgets\n",
    "w = ipywidgets.HBox([p1, p2])\n",
    "w"
   ]
  },
  {
   "cell_type": "code",
   "execution_count": null,
   "metadata": {
    "collapsed": true
   },
   "outputs": [],
   "source": []
  }
 ],
 "metadata": {
  "kernelspec": {
   "display_name": "Python 2",
   "language": "python",
   "name": "python2"
  },
  "language_info": {
   "codemirror_mode": {
    "name": "ipython",
    "version": 2
   },
   "file_extension": ".py",
   "mimetype": "text/x-python",
   "name": "python",
   "nbconvert_exporter": "python",
   "pygments_lexer": "ipython2",
   "version": "2.7.12"
  },
  "widgets": {
   "state": {
    "00a62b0c323841ae8033c3765458cb02": {
     "views": []
    },
    "01b0f4ae880d41609c842c23922768cb": {
     "views": []
    },
    "01c9661c26124119acf86492190d4897": {
     "views": []
    },
    "0273889980e348849230bbae1193f48a": {
     "views": []
    },
    "02b44c0d358d4a4e87bbe785ffbdb129": {
     "views": []
    },
    "0316b4ba852e4e8694aaaf38cb0b0c8d": {
     "views": []
    },
    "03575226f043407aaacddf1b97d7ec66": {
     "views": []
    },
    "03b33a3bcd07403d8fa43e69258fe373": {
     "views": []
    },
    "045ad0288e984328bde6e029e655699f": {
     "views": []
    },
    "0484b3021475459688297e40fedb3dc1": {
     "views": []
    },
    "049e4ad0f4f54e99940d68d1ff16b26a": {
     "views": []
    },
    "04d33c6d3dc74bc3b260b02752868b38": {
     "views": []
    },
    "05485b889ec543a3bb794c2c8cbefb4a": {
     "views": []
    },
    "05772c19c592448981ffb178e040edb6": {
     "views": []
    },
    "05bc897a4b09454d85fea2455107d363": {
     "views": []
    },
    "05f62411817241ad91d1526224758772": {
     "views": []
    },
    "07bb5281b09840a494c7d30596c75bab": {
     "views": []
    },
    "07dd2bb799fe4c2a939f8900d0321843": {
     "views": []
    },
    "08761f2308ea488cb540ab1f0c7156d5": {
     "views": []
    },
    "08c004e314e648709bbb4337723fc3bb": {
     "views": []
    },
    "09452271995545118db0e25be35eaf86": {
     "views": []
    },
    "09a25ace282b4230aad579b266ab87d8": {
     "views": []
    },
    "09b2a185da064ec988e44584f8ec2441": {
     "views": []
    },
    "0a2400854353418c8ad4bdacfa9f5cd0": {
     "views": []
    },
    "0a9cfb051cfd4298965799e545a247ac": {
     "views": []
    },
    "0af40269bad74d3793f3bddda39daba7": {
     "views": []
    },
    "0b5392a7f90a49f5b69a17bb49a05adf": {
     "views": []
    },
    "0c0d05d9a4ae4ab58d6743f894ae1356": {
     "views": []
    },
    "0c172a29a0f5410cbc790014291437c6": {
     "views": []
    },
    "0c25d7768a1741968cfb59e660b4fa3d": {
     "views": []
    },
    "0ca1129fcf2f4ed0b4781e04bae0dd61": {
     "views": []
    },
    "0e9b1d3bd1384ec3bb69415cdb24b6c4": {
     "views": []
    },
    "0f702110a2534d6f8d3357f89fd645c7": {
     "views": []
    },
    "0f8645f40e7b4db5940afb7c857cd666": {
     "views": []
    },
    "0f8885d867874d8b9bc71a2b3ed48d7d": {
     "views": []
    },
    "0fd178be386c4b18b02e745b884fb586": {
     "views": []
    },
    "0fdff9e3399f433eb82158441d90d5e4": {
     "views": []
    },
    "10b5ecd3af454dcdb7451840c3ea4937": {
     "views": []
    },
    "10e15cf57dd34dd68856b4b75d276c10": {
     "views": []
    },
    "1100805e02dd4b159b4eb17ab7977955": {
     "views": []
    },
    "115435fa679d4da09da6ab35c5ecbdff": {
     "views": []
    },
    "11d310acfb1c41718f10f71a551a7cd4": {
     "views": []
    },
    "11fca708e9f54476a2000fe06ebbf263": {
     "views": []
    },
    "1257a7d7e6804c5dab815b68e697b48b": {
     "views": []
    },
    "127485a843ca475bb738b8295d45ab24": {
     "views": []
    },
    "138d2629abba4faf8a2c1a22c0859c79": {
     "views": []
    },
    "13966e6197a84bbe882f934982bbf55b": {
     "views": []
    },
    "13e382ff55774374b3d6c295054de819": {
     "views": []
    },
    "1409a4bc05204d92842890ed4b4422ad": {
     "views": []
    },
    "14c5a339b8b24d60998844dfac962f4b": {
     "views": []
    },
    "163950cbd15d414c9c77bf9b8a6e4a38": {
     "views": []
    },
    "16fd1b2a847c401abb43f93d8723013d": {
     "views": []
    },
    "172065188bdc4b9681a6da8c59acd864": {
     "views": []
    },
    "173a642f83234f798f535fe6f382feac": {
     "views": []
    },
    "177f79fc5c3d45798319397db680ed40": {
     "views": []
    },
    "1815ed06ae264ebdb44abdf142572084": {
     "views": []
    },
    "184a08a81a8e42b193f0ccf6bf11cf02": {
     "views": []
    },
    "18de468a5bfc4646ad12979a2a87a9fd": {
     "views": []
    },
    "1935dead5ef446cc95a9e4a1db5e72bd": {
     "views": []
    },
    "195461e31d014b4bb267d3fb430fa735": {
     "views": []
    },
    "19e0e926313845b594890b40789793b8": {
     "views": []
    },
    "1a2acabd105f44efb96557abebc6c306": {
     "views": []
    },
    "1aaea1f4112247789dc08419e2d93ebb": {
     "views": []
    },
    "1b88102a44f447f781961c91b2a1e351": {
     "views": []
    },
    "1bdcd66f7dd247dc8f2b74913001de38": {
     "views": []
    },
    "1c30b4b8300a424b99baa00d44356f87": {
     "views": []
    },
    "1cb6901b758f42fe82b1d03776d0a854": {
     "views": []
    },
    "1d3ca483d7804ab98e76b954a2bdc90c": {
     "views": []
    },
    "1d4913c229eb4bf7a6df119d8b805371": {
     "views": []
    },
    "1dc48af00e0d41ba98b1cefaf4a58d6a": {
     "views": []
    },
    "1e0e6ab6f04d4a24b91ebb5982dfa05c": {
     "views": []
    },
    "1f91f4e759c847e9bb1b81947e743ac1": {
     "views": []
    },
    "2014bbdccd3e4b90ac6f537018f42044": {
     "views": []
    },
    "210decb0af4e4894b2f745f26ba398c0": {
     "views": []
    },
    "21ba5dbe65f041ba8d563c9a3d3f2265": {
     "views": []
    },
    "228d4871492d4a5480012c69e5903f3f": {
     "views": []
    },
    "229d973b0c554636ba62b90669095cde": {
     "views": []
    },
    "22ebcc793efb4e0eb404f7d0e7eeb674": {
     "views": []
    },
    "22ecd000123849ef8e1647a0a547b896": {
     "views": []
    },
    "231655d9cde9464c884ee2aa3f3f9fde": {
     "views": []
    },
    "235a0db4bb8749ff9c14cf2deb333c17": {
     "views": []
    },
    "23da81fa67f142fd9a9203bf030bf775": {
     "views": []
    },
    "242edf16b14e40af8b4350e72870d3fb": {
     "views": []
    },
    "2560a285334a4d8cb3c105c323cbef53": {
     "views": []
    },
    "2570a1bcebd6449a9d8c8fb143436578": {
     "views": []
    },
    "25723be0c1f840df90f7ce1b4219b14d": {
     "views": []
    },
    "2588fe766ba34359820534fa3627895c": {
     "views": []
    },
    "25d129e7b4b74b9d81a8c36cb6576251": {
     "views": []
    },
    "26ab4b20e5944b15947b5e34f0b8d3e9": {
     "views": []
    },
    "275d7f8522f44ea781d46d50ef2ae8fc": {
     "views": []
    },
    "27d6419f144e43bea53da66793e670f7": {
     "views": []
    },
    "27e8f453c5e64ddaae0a74c24295469b": {
     "views": []
    },
    "294db09bfd874335aa59a1a7d9812ca0": {
     "views": []
    },
    "294f461c0b9c4819ad34c5e59abe653c": {
     "views": []
    },
    "29889d9f52414b0d9f73857c50c35b0a": {
     "views": []
    },
    "2a4acd3284a34c36a13fd5c9546e037c": {
     "views": []
    },
    "2a5574deb41b4b9f9bc4e384f6f9d139": {
     "views": []
    },
    "2b11164db43244f697be408257b18962": {
     "views": []
    },
    "2c7700109c884f0f942de5b0be7e3530": {
     "views": []
    },
    "2dbccce8749f4aaca0c7aa618d5fe89b": {
     "views": []
    },
    "2e2693730f1e4bb397da14ce8fee9215": {
     "views": []
    },
    "2e350fcfc29147e4940838dccca5fe91": {
     "views": []
    },
    "2e5cf4231f2f4a0480dccef646d960f2": {
     "views": []
    },
    "2ef1c53bf3c0416f8ca87baec3be1528": {
     "views": []
    },
    "2fe4a3f0477549bca434ead62f96883a": {
     "views": []
    },
    "3143dd72ffda4252a456255a0f7ce17c": {
     "views": []
    },
    "31d7f0807d0b493687ecb749191fcdba": {
     "views": []
    },
    "3201cd4c7f42435393d8e0fb0b22ef5a": {
     "views": []
    },
    "32079e4ce29b4a39a9b3c353ff737673": {
     "views": []
    },
    "3214fc8b58124149bb50f3911cfcea0e": {
     "views": []
    },
    "3244e996d97849ba9175ce27cfa0b72a": {
     "views": []
    },
    "32452647bc5546e28954c6cc25b6487e": {
     "views": []
    },
    "32d2046679be4a5797e98f3b2283ef5c": {
     "views": []
    },
    "33a1c5612e4f4ddfa6292aa5fd9f1482": {
     "views": []
    },
    "34483dca1af34dc7acb28fc259ad4e14": {
     "views": []
    },
    "35cd092966a44420aa9df40ee44960ca": {
     "views": []
    },
    "35f9f07dabea43fabac60638ffd63ac0": {
     "views": []
    },
    "361d54d2422449ac8a0a3fcada9c1c2d": {
     "views": []
    },
    "36b442e3f65c4467b9c537d2e5bb7465": {
     "views": []
    },
    "36df59cbec99470e95693cffca02ff4f": {
     "views": []
    },
    "36eb61248c3d4773955e63c167a75086": {
     "views": []
    },
    "36fa12c5a02f4c5aaef0482811153498": {
     "views": []
    },
    "370ae56e225c43d9b2be1903bdd46838": {
     "views": []
    },
    "373ecd0b462248dea01d59e4c1fa91c2": {
     "views": []
    },
    "3779bc7f6aed4f2d9d00d6d1ad759fe9": {
     "views": []
    },
    "377e7414e60b481d81262836c4c3d43d": {
     "views": []
    },
    "37f5285231174dbfba907dd5535a0558": {
     "views": []
    },
    "385cda2992194225b9b5f022debb3427": {
     "views": []
    },
    "387c0fb1c3bc45ea8962413cb04b3f6d": {
     "views": []
    },
    "38cee52008504c4bb821394b20922fb6": {
     "views": []
    },
    "3906fece2b9a4df88890287464236e76": {
     "views": []
    },
    "39200140581c4768bcbe970c29ab659a": {
     "views": []
    },
    "39ab05f17c4e4bbab8986c167cf5b88f": {
     "views": []
    },
    "39c7a97b8bf94674a2ac8b47febc7358": {
     "views": []
    },
    "3a06495b8b174365949a84fb045e1cd6": {
     "views": []
    },
    "3a60f7a1ddb24473a1932021368c1f87": {
     "views": []
    },
    "3b245592f5fd447d991264a369ecdbeb": {
     "views": []
    },
    "3b269ce4ed084e27a26d8f1080fc2e15": {
     "views": []
    },
    "3b983d469977497a9f1afee43aa8c7a2": {
     "views": []
    },
    "3c195a94bbb84d6784f5c81c2264deae": {
     "views": []
    },
    "3ca591b509fd487bbe370d8792dc5526": {
     "views": []
    },
    "3d06a4d6df784af58d8e47468a13f354": {
     "views": []
    },
    "3e5f817c40724d2a83240ab0fea93447": {
     "views": []
    },
    "3eb2df423c0f4489a63db4c36b3ccb93": {
     "views": []
    },
    "3fbbd323f50340bc994027e322b2745b": {
     "views": []
    },
    "4036941ed5a142ae808de0d3cb64c6b1": {
     "views": []
    },
    "42370db58514456c9144f80fbf3bd530": {
     "views": []
    },
    "42538c4db86447df9df683e2f0ac5bae": {
     "views": []
    },
    "42b1a25122574403b526c55c1bab4a19": {
     "views": []
    },
    "42f39a1fa54c4a88b9eb4d8274586d65": {
     "views": []
    },
    "431ae168ed184c8d8b76b245770c755a": {
     "views": []
    },
    "4364d996f530443bada7a551c513bb47": {
     "views": []
    },
    "438f3cececcd4c76aea19b76b6b7accf": {
     "views": []
    },
    "441b9af669df471ba50d3162df2700e9": {
     "views": []
    },
    "4493c0d295624ccba15e02b66a2175ac": {
     "views": []
    },
    "454ea50c0a71453cbf619622e41d45c1": {
     "views": []
    },
    "456aafdfdc2449348ab594da93b028fa": {
     "views": []
    },
    "45d92ce2c17748c1bb33d57b0a5ed25d": {
     "views": []
    },
    "47444b4e3c8c48c6b5cbc32aca7e7b18": {
     "views": []
    },
    "4773acc6211c46cb8d6051fd0d31a2cd": {
     "views": []
    },
    "49ccb2e91097427b81dfd363a17f37f5": {
     "views": []
    },
    "4a0b722213734e00984b6739d1c0b4a9": {
     "views": []
    },
    "4a3690993f334803a1c50f4f6ceee280": {
     "views": []
    },
    "4a511998c99e48ec96222ef8e8236fac": {
     "views": []
    },
    "4b3f623d95194fad96d87fac90b12587": {
     "views": []
    },
    "4bc70e98d16743d7983bfb31870f6456": {
     "views": []
    },
    "4d70923f7c46436f88940d34351c95a9": {
     "views": []
    },
    "4d871408375f4a0f9795b0a2d904efa9": {
     "views": []
    },
    "4e5983f2fb014b0e87cc9dde07ac569e": {
     "views": []
    },
    "4e64f90a7ed54ad293d5a4368e2f5835": {
     "views": []
    },
    "4e9a68dec4644f44a47be6d19eeca098": {
     "views": []
    },
    "4ec0759837684beb939ff51a9c51b560": {
     "views": []
    },
    "4ec3825714b64ca695f6b64bb9caf0b4": {
     "views": []
    },
    "4f5ccd288e8b4c51839bc513c45daaed": {
     "views": []
    },
    "4f7535d3a01a44d9a6578274935ac053": {
     "views": []
    },
    "4f8edc069b7e427f84848ae70d6f57d6": {
     "views": []
    },
    "501be8de99fa4f4a9a0bfb57508d499a": {
     "views": []
    },
    "5036862407404170ac1a7a2c4b8d36a3": {
     "views": []
    },
    "510ca237b01140fcbd4d4416725968c8": {
     "views": []
    },
    "51cb3488696e4355944d6b805227a525": {
     "views": []
    },
    "521cd0cdeb70485abe2484cf76284cfa": {
     "views": []
    },
    "5381a8ab561348af8624a5ffd06d0d37": {
     "views": []
    },
    "53a03109fa634acdbc39d188087b8549": {
     "views": []
    },
    "5425e29390a044cc83702fd39aa39351": {
     "views": []
    },
    "545b176cf4ae4828a2d824db5c8c2c76": {
     "views": []
    },
    "54cce99bf6a54658b3d4cf6414496a16": {
     "views": []
    },
    "54d0ef8871bd45b7b0097d26bda2fe48": {
     "views": []
    },
    "54d3c84819084080982563e5004662c8": {
     "views": []
    },
    "554c940dc2e94cdcb1176019c4f50634": {
     "views": []
    },
    "558ca135edb24da1b372601ae6183404": {
     "views": []
    },
    "55b88071b3f14e4dbc699df5c6dd2f62": {
     "views": []
    },
    "566f06e84edd4f47be42c8ac5450b95d": {
     "views": []
    },
    "56d47c0ad3d940b9b7ce99756a9f54c9": {
     "views": []
    },
    "572fb92f806d41fbaac0d73254e5c631": {
     "views": []
    },
    "5740bca9374d4f68bea19150ac212e55": {
     "views": []
    },
    "57b82d4e6df64aaab38faa2185b2ecda": {
     "views": []
    },
    "583014b3b60f44028d4b5407cebf2c6f": {
     "views": []
    },
    "5863a5141f5c42a780f680a03c3f7389": {
     "views": []
    },
    "59d0e1a0686049f3b87163134f4755bf": {
     "views": []
    },
    "59d4bfb2a9fc4fa7aef3076fb2b7c002": {
     "views": []
    },
    "5a2c11a8115948fcb4f60088da005d08": {
     "views": []
    },
    "5a8ec3e003c44e228d0c498c43b4c62b": {
     "views": []
    },
    "5b123d28c37141da869c6400c307101e": {
     "views": []
    },
    "5b4dfa83796b48beb7b3a43e6bda7fc1": {
     "views": []
    },
    "5bfcb72d2db946a89727de8c521b0dd0": {
     "views": []
    },
    "5ce7f97290704962b84c6ebe603f25b4": {
     "views": []
    },
    "5cf56a42affd44b08e7bb79034401911": {
     "views": []
    },
    "5d0108e51ccc4358be9ea6d3da347675": {
     "views": []
    },
    "5d0dc52205a44c779d51c936807890bf": {
     "views": []
    },
    "5d2e5594f4d548828ca4fb1d87a60a41": {
     "views": []
    },
    "5db80debedf847e2a4051acee013991f": {
     "views": []
    },
    "5eadfbf12ea840b28c132abdb849c587": {
     "views": []
    },
    "5fa23c89cac244579a2ecf0daed0d033": {
     "views": []
    },
    "609fb3c3a12d4ff3b3107118d10836c7": {
     "views": []
    },
    "60ef6aeecbde402390f54a7e7789f27e": {
     "views": []
    },
    "6108b9a39a7c4af0825bcb9d55c65cc5": {
     "views": []
    },
    "610c770b9afc4630b67efd410b47f372": {
     "views": []
    },
    "615e78c92fcf4f0182b9ebb057ce6d03": {
     "views": []
    },
    "619a904a01084841bf0f400e91e7deb7": {
     "views": []
    },
    "620b4a0e618b445a9466fcb30ea70c38": {
     "views": []
    },
    "626815b014bc41cbbcfd3b046a2d3d92": {
     "views": []
    },
    "62b11f650c2b44afa8542c4a0a642e65": {
     "views": []
    },
    "62d0786dbc0541fe8c0d06629fcd2c7b": {
     "views": []
    },
    "63c1f13aba904db2977a4fd1cab717a4": {
     "views": []
    },
    "651e20a80ed646c486c4adc4d6a0ad2d": {
     "views": []
    },
    "6564ffb0ba38405eae4920d51435ba1a": {
     "views": []
    },
    "6568a6548e674feaba4b321bae51de89": {
     "views": []
    },
    "6646f26d252143af9df15d0cf1e28920": {
     "views": []
    },
    "6672aef7b79545d49cbe15c936fd8e29": {
     "views": []
    },
    "66ab287b70d445aa978fe1bb3e7995b3": {
     "views": []
    },
    "67545aad346141a5a4e6ef4d9ba88912": {
     "views": []
    },
    "67868c11fd004a05a4ccdb6fc176d338": {
     "views": []
    },
    "678d2ef15bd64fa18503ad0043f4d846": {
     "views": []
    },
    "67e13238858a4c40b3c887411d13a747": {
     "views": []
    },
    "690f8e7704a64b9b8fc6755ac5eb7213": {
     "views": []
    },
    "69384884274746ef8564b87d074db941": {
     "views": []
    },
    "6a1f55111adb46648030ca8658b9fbd4": {
     "views": []
    },
    "6a3c16e50158494cb012d25048814290": {
     "views": []
    },
    "6a9dc4be77f34d30be02dfe4bb7300a9": {
     "views": []
    },
    "6ab218eabdc54f4f8cb1615697602a7d": {
     "views": []
    },
    "6ad30bfef2d84485abf16dbab783a473": {
     "views": []
    },
    "6b74b6b518e84607b4112fe8c8cd81d7": {
     "views": []
    },
    "6b94d0baa37b4cc8b612424cef4476c1": {
     "views": []
    },
    "6bc52bc4768847398b30e3a003b9ba4b": {
     "views": []
    },
    "6c933c7bbd284ae880e61eda76cdcb45": {
     "views": []
    },
    "6ce3eb6d38ef4e2e99cf2689d0b19b57": {
     "views": []
    },
    "6d1ae4d6796c40639fa92bbb194bd4d0": {
     "views": []
    },
    "6d211119ab234298b7536bdc33566561": {
     "views": []
    },
    "6e0fcd060769484d8c34b4dc814bc0e9": {
     "views": []
    },
    "6e6d2f4cefcc480fafc486c86712fbbf": {
     "views": []
    },
    "6e7ae721905e44e8baf6b81fada015ce": {
     "views": []
    },
    "6ec3f46d0dea42a2a5dd77536a201b27": {
     "views": []
    },
    "6edeece1902d42828e2334a97583bcae": {
     "views": []
    },
    "6f06ccbc82a1455a94503ae0b0bcaf93": {
     "views": []
    },
    "6f70abbae6024c0b964465d07a0edc1a": {
     "views": []
    },
    "705eef9f29ed48318319e56496d03e0d": {
     "views": []
    },
    "71019b653f9c4167ac027bf293ee2292": {
     "views": []
    },
    "7137fc0a531a4ba4993b876d01032acf": {
     "views": []
    },
    "715f8ad56e0b46f6b86abc0c376a369b": {
     "views": []
    },
    "718ba77033d84c828fc9a03f6228e111": {
     "views": []
    },
    "7365514cb4224407b512f7fde5a1ecd5": {
     "views": []
    },
    "738308d1560e47dc89ccde69d180c0c3": {
     "views": []
    },
    "73927d5685a54eb5a51badeeb043c8bb": {
     "views": []
    },
    "73cf4ed5b7ae4ff7b56a3297e8cc1dbf": {
     "views": []
    },
    "73da0fb39bed4109bca7dcd3426bd069": {
     "views": []
    },
    "74b9bf231a55427cb0c079cb679925cd": {
     "views": []
    },
    "752d2f378319466d9cb70e8b63981187": {
     "views": []
    },
    "75ab064b8286438ba3b68b97bd5e37f4": {
     "views": []
    },
    "75acbdbc27884729a623a73211f5b03e": {
     "views": []
    },
    "75ad35d7c55f400287b3973501c048aa": {
     "views": []
    },
    "75e212c0cc444f4e8e6f448558ba440d": {
     "views": [
      {
       "cell_index": 10
      }
     ]
    },
    "75f29e6ed12545f1a843fc51bde4866e": {
     "views": []
    },
    "76ab001e70c94154a29f7018b808ef59": {
     "views": []
    },
    "76afe63f82724b7c9b257f2134f1ba16": {
     "views": []
    },
    "76b3ee82f3cd4a8f836df2e10944f997": {
     "views": []
    },
    "76f8bb6e0c0248ca8bbaacc936cdeda3": {
     "views": []
    },
    "773c3b25b9aa48b19d2d6b93ac5c291f": {
     "views": []
    },
    "77a09a04615a4b229f1ae66d88a3c517": {
     "views": []
    },
    "78496ab95e294447bb28ed0c8af3ccd4": {
     "views": []
    },
    "7878802f82b245668d217984903b3069": {
     "views": []
    },
    "787ef1950db24cd0a0ddc9a9e46e8f7e": {
     "views": []
    },
    "7936433543664bd5bc1bde50555335e1": {
     "views": []
    },
    "79a217260dc74ad6838e94975d35b293": {
     "views": []
    },
    "7b293dbac55c431d9c2d075adf9976c3": {
     "views": []
    },
    "7b2fb6a072314bf69e08552ad18c05f9": {
     "views": []
    },
    "7bb18a6fffb9479195202330b7310f4d": {
     "views": []
    },
    "7c47e2f42e1445249391ecf3e455ebba": {
     "views": []
    },
    "7d2456cefbac470488f7e1e168d13bd7": {
     "views": []
    },
    "7d6d9899ee3844518d398963ee4c02bc": {
     "views": []
    },
    "7d93e96eac3b4532ba60a326799dbba2": {
     "views": []
    },
    "7dbd14e257334a8c86295a370cc8a1a4": {
     "views": []
    },
    "7dd5c9995f1340d0a6fe972c9b33a57a": {
     "views": []
    },
    "7dfc6e6574194fa5bed23b982361e032": {
     "views": []
    },
    "7e1bf5e3146344d1a71e9875b38ee1d8": {
     "views": []
    },
    "7e4e565d36dd4faab5bac75a8160fa77": {
     "views": []
    },
    "7edb50c1a0f649b980affe342fcf8451": {
     "views": []
    },
    "7eed0f6418cc4151988a5fcf08b37f24": {
     "views": []
    },
    "8044012a5493448fba2da8967d1aadbc": {
     "views": []
    },
    "80b08273d3c74c49a63d955c8f0d098f": {
     "views": []
    },
    "80b64ea364924a09ac5399c28e352eb5": {
     "views": []
    },
    "80c7aff349f1460e8d883fbdc5e8f175": {
     "views": []
    },
    "81d346d803334dee81019c282ecbf1cd": {
     "views": []
    },
    "8274b90e63714554852a460d4c068fe3": {
     "views": []
    },
    "836a47ec2f444862b8ba432572abe228": {
     "views": []
    },
    "840a5a16d5e246d69a6b4b0240218220": {
     "views": []
    },
    "844bf56883a94b17b424e2be96f9119e": {
     "views": []
    },
    "845ed13a8ad64bd689595bdfebdd0b87": {
     "views": []
    },
    "84bdf07a3542404a89b810f7c4d7e7fb": {
     "views": []
    },
    "850f476db2924f6f9566ce8dbae96bad": {
     "views": []
    },
    "854a033103494a94ac8e4cae7cc36e50": {
     "views": []
    },
    "859e1411977e471196ed3c6d02c80809": {
     "views": []
    },
    "85d7370121144278848b67e5c058e6da": {
     "views": []
    },
    "85d7b264b7ed42f3872d4d2f95aa6125": {
     "views": []
    },
    "86720e0f8d874d309703cef9f6037988": {
     "views": []
    },
    "87aa1bd953f64ef2a79551c7f684fb23": {
     "views": []
    },
    "87c0063c6428497b9d65460e5b3fd254": {
     "views": []
    },
    "87debf5e9c8c435e920e38f143712bbb": {
     "views": []
    },
    "89a62c0ac0754f659234dfa57bd7053e": {
     "views": []
    },
    "89bb4560d8f14c6a949dcfafead5d793": {
     "views": []
    },
    "89d3b02a86c6465c831d05b08ba90ca9": {
     "views": []
    },
    "89de98236f4944d7818fb7efe30b35d9": {
     "views": []
    },
    "8a54ee7bbb1e4a0ab0368fa14b7ef128": {
     "views": []
    },
    "8a852bcf1f2a416b820ab0af6a1e35be": {
     "views": []
    },
    "8a8f63e681cc473c847376bd9951226a": {
     "views": []
    },
    "8aa1f35652554b1db2dff3872011ff62": {
     "views": []
    },
    "8aa73615937c4415bb790c33e5da0ea6": {
     "views": []
    },
    "8acb4b30f51d439ba5b98a117d9ddc64": {
     "views": []
    },
    "8b2bd1ca61a147fba0c73703fa2cb82c": {
     "views": []
    },
    "8b7aca107c6c413d9498a3594007cc59": {
     "views": []
    },
    "8bc24240c44a43f9a691838b13e81909": {
     "views": []
    },
    "8be43e0d874b482e88dbb0276ef4f180": {
     "views": []
    },
    "8c45ba535e154f4d94a82f267afef0ef": {
     "views": []
    },
    "8c5cb4f4002d40a6a45813a3c5a5c982": {
     "views": []
    },
    "8c89c9ab639545fbb2445924199426e3": {
     "views": []
    },
    "8d0842090f684d1eb38121f628187ba3": {
     "views": []
    },
    "8d207e1029aa4deabaa60a72e4389bd1": {
     "views": []
    },
    "8da318d018e54a728ef23b8f50d3c879": {
     "views": []
    },
    "8daeabbabfd34c17b442b21c33a76b1e": {
     "views": []
    },
    "8e61bf572ebd4b4596ac220c23f597f0": {
     "views": []
    },
    "8ffd7c54339c40a0bd144740cdddf28a": {
     "views": []
    },
    "907303823b40422d8db8bef4a1a192ba": {
     "views": []
    },
    "90bd684a6cbb468d879300cbed55f09a": {
     "views": []
    },
    "90f80d007d224cd2ba361a629543f8f1": {
     "views": []
    },
    "914e452c65524ae0a7ab3145d99d2860": {
     "views": []
    },
    "91ebfaaee7354ca58045f09e85850b88": {
     "views": []
    },
    "9246339e205e4f9f8fdcac3cc181d284": {
     "views": []
    },
    "92b9a11ae3c3430899637c90bba58cbe": {
     "views": []
    },
    "92bbf13e971c4dc2926156f47d910595": {
     "views": []
    },
    "92c850f23cd647d2a45cb7f36e8f6bbb": {
     "views": []
    },
    "92df51f52c4b487a8095fb6cf168ff8b": {
     "views": []
    },
    "93da44f8133a4da6ac9778779be62c76": {
     "views": []
    },
    "944da05210bb4a6d8ab2a87547bc32ef": {
     "views": []
    },
    "948346b1ee8b4956af1b9d6737048576": {
     "views": []
    },
    "9516f1d70e804cff8825592d202a1615": {
     "views": []
    },
    "952b774a48d0420ead171336f34b7860": {
     "views": []
    },
    "958e6172d2ba47f1b54939c337936c84": {
     "views": []
    },
    "9596c69ae08040bbbd8461553221d771": {
     "views": []
    },
    "959a0f6760a542a6990db5082a3096e5": {
     "views": []
    },
    "95c0ec6999ed4101914ad10c1130290b": {
     "views": []
    },
    "96120798e9504a6b8f046faf52b9c6fe": {
     "views": []
    },
    "9697066f54214ed7a5d336becf1f3bce": {
     "views": []
    },
    "96dbb97b223040a88fcee7ef11f32bcc": {
     "views": []
    },
    "9777e7957fc14395951ceb8c1d55f2a9": {
     "views": []
    },
    "979e3c78ca454a018aecc105059b3ae0": {
     "views": []
    },
    "97bb74e460a445f2930a73c0c1cb5199": {
     "views": []
    },
    "984bb752b43f4dcab3cdcdd4ba5964ca": {
     "views": []
    },
    "984f8f8b5b244406bf27608641f00100": {
     "views": []
    },
    "98849af97a2c4faa983c503d62709803": {
     "views": []
    },
    "989d1c2df9e34d5c922a35950c196f45": {
     "views": []
    },
    "99b919f59ac543ada4a1b7fe142864bc": {
     "views": []
    },
    "99cebac4679d4cc6b42cd122b8a84994": {
     "views": []
    },
    "9a309275d1ac46d1878bc0f3b9e814fd": {
     "views": []
    },
    "9a817a7ac0264e63b9174de6be12975a": {
     "views": []
    },
    "9ad451ec37f149f184b706bff4417df7": {
     "views": []
    },
    "9b2bcc4148164ef3822eda9fbeb14ef4": {
     "views": []
    },
    "9b6bd241cba243d0b72072dafd2a3bcb": {
     "views": []
    },
    "9cbedebbdffb4773838ad62d455a0e4f": {
     "views": []
    },
    "9cc0377e2a9d41a889aad438bad71609": {
     "views": []
    },
    "9cc4602247914f69a81939711c2b2ce2": {
     "views": []
    },
    "9dd2f6417d0542679f1aa232abb8b3ef": {
     "views": []
    },
    "9f60b64a26424706b344ff14cfac07e9": {
     "views": []
    },
    "9f83e17f314f48d4901cbd02af7b3264": {
     "views": []
    },
    "9f95bd48181a4cd4a1d9c8777ade7d1f": {
     "views": []
    },
    "9fe1ba6b162546ac87c97c2104a1869a": {
     "views": []
    },
    "a04ffb2a943149d4aaf37e8e44a61f72": {
     "views": []
    },
    "a0634d3c8edc4b7298fd81ddac4d46f7": {
     "views": []
    },
    "a08b3bcc757a4cacb849dcfc2d6f82db": {
     "views": []
    },
    "a2c478d5d794436bbb4adbdfc266859a": {
     "views": []
    },
    "a35625614e6a4054b6103f86177f9ef3": {
     "views": []
    },
    "a3da47ec492041608fd07d906fb8f4b8": {
     "views": []
    },
    "a3da6c6aadb34b3dbee679fdac142303": {
     "views": []
    },
    "a3f6bc828ebe48929168d18eaf7e6236": {
     "views": []
    },
    "a44ea2570a5f4d1cb46e11d3bdc4dc32": {
     "views": []
    },
    "a4e0436ce9a04792904e6cd904eef69b": {
     "views": []
    },
    "a50ea7fca2d142b698c9bf6788e7c620": {
     "views": []
    },
    "a593bf0e631b4c50901460911ac367aa": {
     "views": []
    },
    "a5cdc0cf157643d9866eb991937d63fe": {
     "views": []
    },
    "a67fdacaf8bf4a92b526e943ec1fc60d": {
     "views": []
    },
    "a6b63a95907a4ff8868e1d1e873af70b": {
     "views": []
    },
    "a6ef57093ce74b20bca953a756bcdba9": {
     "views": []
    },
    "a7584f7d4a3449bdb97844050e6a232c": {
     "views": []
    },
    "a82c5cca89e34ae29ab750622b4f8a89": {
     "views": []
    },
    "a83196d4d2d846e292c4167fa2d2d37e": {
     "views": []
    },
    "a8524d8015594af09d4a8f2520c164e0": {
     "views": []
    },
    "a89b288df1c54d5ca611ae135d96e839": {
     "views": []
    },
    "a8a2c98016454dcbac9234f0c57c058d": {
     "views": []
    },
    "a9adb8def53e4241b717aa3acac5a88c": {
     "views": []
    },
    "aa5749f273da41de928a23d6fa8659ff": {
     "views": []
    },
    "aaa55ae56065436a9ef23fd40258b34e": {
     "views": []
    },
    "abb903f4b9bd4a70ad5061601232b481": {
     "views": []
    },
    "abf66ef1e8c845c8b9cacc78966177a8": {
     "views": []
    },
    "ad3b0040ffff4245aadd8f55a33d4b4e": {
     "views": []
    },
    "ad485a23035b4f63a814b0337ea8e5f5": {
     "views": []
    },
    "ae1816e2a44d412b87f3d66631b5c0c5": {
     "views": []
    },
    "aea80a7ca0524c46a3354164ee3243a9": {
     "views": []
    },
    "aeeaf6376e894c2f82f390b65f0634d9": {
     "views": []
    },
    "aef311c4ffe04632a978ced797c21b80": {
     "views": []
    },
    "af656712c80e432bbda3b81bef8aa46c": {
     "views": []
    },
    "b047188015c941879d9ce9d7ae10da8c": {
     "views": []
    },
    "b0505fb175a54d738a2a86e0bd225423": {
     "views": []
    },
    "b13fbeff1f204c5695d5f2f84b9174c7": {
     "views": []
    },
    "b16607a65cc04d2b83b346df911f7a97": {
     "views": []
    },
    "b17359eb62b9434ebba58319f2a84a0e": {
     "views": []
    },
    "b290e571ca544fc28489585e30fc953f": {
     "views": []
    },
    "b2c40da880e64d5bb39301df2ca465bd": {
     "views": []
    },
    "b2e1ddc80c09467c8c29276416480fac": {
     "views": []
    },
    "b2f31554f95e44eab610fa0478b5c1b7": {
     "views": []
    },
    "b2fa1ac29d3c4b2c9b924b7bfd2d9d42": {
     "views": []
    },
    "b303582df6cc49d5bd2b57bbbb319388": {
     "views": []
    },
    "b3eb130e395d4830a980838e2f1a9507": {
     "views": []
    },
    "b453d46e853c4627b2404fc18d5932d3": {
     "views": []
    },
    "b470827cf0f24b1f9ec8d1d1e97edaaf": {
     "views": []
    },
    "b4acac0b06ad46bc89ab11a8858a957d": {
     "views": []
    },
    "b4efe2b61a414d22a73b4201c58cc5c5": {
     "views": []
    },
    "b50628d4732b43b19d66445c9adffc23": {
     "views": []
    },
    "b59c2225d9ee4914b187ea9d7bbcf86a": {
     "views": []
    },
    "b59d79ea0f8a4701b6d2c2ef5c1e3b67": {
     "views": []
    },
    "b5c0ce44412b484786bab4695f181d93": {
     "views": []
    },
    "b5dc8065d19046b29f71126b3e811b3f": {
     "views": []
    },
    "b5efb13f848d445d8ff433af76112826": {
     "views": []
    },
    "b687a0a397e748bdbc4568c08fb7fe08": {
     "views": []
    },
    "b69a32a93cc24ed7af623821d9ff3144": {
     "views": []
    },
    "b6d6c188ad7c44de8fb0f010477ab104": {
     "views": []
    },
    "b6fe8ac118a7414a9fe45d4946554d9c": {
     "views": []
    },
    "b843a54c2f2d4eba8775cab282ef9b88": {
     "views": []
    },
    "b84f262af3744a72af2db52d4d57d0fa": {
     "views": []
    },
    "b8ba578f5f284ff4b93a24076fb04aa2": {
     "views": []
    },
    "b8c1c52ab137443d806821c06ed472cf": {
     "views": []
    },
    "b8f5dc859e40485f954738257fdbbd06": {
     "views": []
    },
    "b9ab7611042647058430c385dd7fd8e8": {
     "views": []
    },
    "bbdf2d282b4e479c845ee7e91d62afbd": {
     "views": []
    },
    "bbfc63c7db574d309b025b07600f40bc": {
     "views": []
    },
    "bc49e2743dc047608d6a25323ec9dcbd": {
     "views": []
    },
    "bcaad45e7d5c433dbf9f0af9efe3ca51": {
     "views": []
    },
    "bd03b4e1c8f24006a932de66f1ad1b4a": {
     "views": []
    },
    "bd89387ca4e948c488c2ebb0177dd7f8": {
     "views": []
    },
    "bdb6f5472864492cb33a782bbee728f4": {
     "views": []
    },
    "bddf1b6b8af04c6685f25cfcc49f1cea": {
     "views": []
    },
    "be0d9695306e4631af9a69faf70825a4": {
     "views": []
    },
    "be3f7e73e6a54938b8dfa6a41361679a": {
     "views": []
    },
    "be43f07d983544e1a82c0c8df068d112": {
     "views": []
    },
    "bf5ac493887346be9b07bcb77e035337": {
     "views": []
    },
    "bf984297d9c548f5b55f76a66d2c78a0": {
     "views": []
    },
    "c026c2caf0d144a4b7444e6ab0c6dce3": {
     "views": []
    },
    "c0c610be32144587b701189ad61e55de": {
     "views": []
    },
    "c11479e647f34320a3c9308e540fe645": {
     "views": []
    },
    "c1460a5e2bf34516809f8cba9b9e28d0": {
     "views": []
    },
    "c153369fbf924b83a63272a92ede0b59": {
     "views": []
    },
    "c1672b907c3c4bd7b770cdec17363598": {
     "views": []
    },
    "c1836d9728784174a5d1acd2407b3c9d": {
     "views": []
    },
    "c325f91825034aaeb3101edd83266ac3": {
     "views": []
    },
    "c32d5d668e8f488786452cfab29fe0a0": {
     "views": []
    },
    "c34cc3d373094db6ae73f64e897b0d7e": {
     "views": []
    },
    "c3611c7b6cf84f47b73a4db0f9e7dcbd": {
     "views": []
    },
    "c490514734d54700a2b2534226870dd9": {
     "views": []
    },
    "c585fda01a80412ea41cb2e508f73571": {
     "views": []
    },
    "c5bdda5faaab457b95d39b4a733ad59d": {
     "views": []
    },
    "c5c3db8fdde740f2a16fc309940c5393": {
     "views": []
    },
    "c60feebe50944ebfb508fde609c5fbec": {
     "views": []
    },
    "c6d8f967ea454451a74bd1988f3284a1": {
     "views": []
    },
    "c6e480e5a95d4d478500c679ae3d616c": {
     "views": []
    },
    "c86fc9f74708476cb2889ad72b80e82e": {
     "views": []
    },
    "c9cb4f5c1fdd4ceca1c09d073e1e4ce6": {
     "views": []
    },
    "cb64a68ab63c4075ad25ccf7bde9e7f2": {
     "views": []
    },
    "cb89623be68b4e139a924c452ddfdd9b": {
     "views": []
    },
    "cbae007aeb974b5c893555515100c53e": {
     "views": []
    },
    "cc5b5feacb174c879402b1dbc859e844": {
     "views": []
    },
    "cc72d84ed78346b98efac26a9e3e7197": {
     "views": []
    },
    "cc80baba78b94dc2ab0c777da77afdd4": {
     "views": []
    },
    "cc86c75630d94f28a16c2248e9fd6df3": {
     "views": []
    },
    "cc9f47651496402eb12efe23af8cbab4": {
     "views": []
    },
    "cd908b94591f4a61b5d07aed25802918": {
     "views": []
    },
    "cdb041a0ed7c4f3bb74b8c04d7f1fe58": {
     "views": []
    },
    "cdebac3b1ee84f5c9f82f3d445fd999d": {
     "views": []
    },
    "ce733da463e144709b64ef4ba02f3bd9": {
     "views": []
    },
    "ceb406c6ca9f4a1ca9d9cac989498d31": {
     "views": []
    },
    "cf29b9f632c340009c788ceaf037c7ad": {
     "views": []
    },
    "cfd17c2e980046eba933d8e71ca4dfa5": {
     "views": []
    },
    "d079a217e78b4b50aad56f219df5d376": {
     "views": []
    },
    "d096619cf6e54834b6f238a039066c09": {
     "views": []
    },
    "d09f581c5b554c58ac4cc9cd44ff119d": {
     "views": []
    },
    "d19c6b526d564418a9f913f6c8da4f09": {
     "views": []
    },
    "d1e62d4f33f5474aa62f583bb9f7b8ec": {
     "views": []
    },
    "d23d7941f44141ef80607d2476c6f7bc": {
     "views": []
    },
    "d24377139d044e8f9ccecd701c56d5fe": {
     "views": []
    },
    "d2923d9ca49f49a7bcf1fdbc2364a48f": {
     "views": []
    },
    "d34bb2b0f33145028332be8f82fe40ba": {
     "views": []
    },
    "d45d7a427c434cf9a6dca23f8b4bc486": {
     "views": []
    },
    "d464ab81cd52421aa95ef9e8c97950a1": {
     "views": []
    },
    "d4f0bef1b69c46e8999634920e9db0ac": {
     "views": []
    },
    "d5d8213332724a5ebb264716c53bfa14": {
     "views": []
    },
    "d641aabd4e0442869b71631567b6e645": {
     "views": []
    },
    "d6a61008914542ebb71ec48ceaee0517": {
     "views": []
    },
    "d6a9e88cda8d4372a14b3709904057e4": {
     "views": []
    },
    "d6aa33c5fec4455182e52fb2999b5a85": {
     "views": []
    },
    "d6d81946cc4442b7babf11e505b40683": {
     "views": []
    },
    "d751aabdd9324892b00b930960afb97e": {
     "views": []
    },
    "d7f8b7273cca4b089b987931e4c205ef": {
     "views": []
    },
    "d837f6a157f445479c819c3f480c3108": {
     "views": []
    },
    "d9819de7203240949e63ba6f3a5b74da": {
     "views": []
    },
    "da410539fed948e282232c4d5c4cafd7": {
     "views": []
    },
    "da6da69b616540a39715aad38e5a8f3d": {
     "views": []
    },
    "db65f54b088347b196dde4ed02d0c3c0": {
     "views": []
    },
    "dc748e6f6bbb4920a64f69effd4f67c2": {
     "views": []
    },
    "dce0b29734ea483a92876bf680098234": {
     "views": []
    },
    "dce6026da92146a8930b823065e01d93": {
     "views": []
    },
    "dd8de7138df6489c828fea28fc2fd10a": {
     "views": []
    },
    "dd9c3d05117943358f8358f8f38b2738": {
     "views": []
    },
    "de1e5819146a4b81b1006744ea3ad875": {
     "views": []
    },
    "de4489d459864b37b2cb636049141c41": {
     "views": []
    },
    "de4801c501c64d8891b6e7211f0cdbb1": {
     "views": []
    },
    "df539d2a1938417eb56a66ecceff369c": {
     "views": []
    },
    "df696a31b9ed4ac49bc0359575a64da6": {
     "views": []
    },
    "e01a7ae7f03942a2a606ae6b1283bab9": {
     "views": []
    },
    "e07aa2bdf1d444feab8016c1089864c5": {
     "views": []
    },
    "e09c861a58db42bb866163628811bce2": {
     "views": []
    },
    "e0e3dc275c7242669b66244f61d8914a": {
     "views": []
    },
    "e11d89444bf64aa5adc33848fb01d97e": {
     "views": []
    },
    "e14d6892e5e144c0aeda4f97e8e21544": {
     "views": []
    },
    "e16dc6a8bc0f49dda283a692294c1141": {
     "views": []
    },
    "e1cd1b9490d2483bb3ab9fb74f916523": {
     "views": []
    },
    "e22d9058ba34460ba9c5d219ebbe5bc6": {
     "views": []
    },
    "e256385770f24917a0079777f9fa4fe9": {
     "views": []
    },
    "e2d92fc12b724dc98f1db3265269570f": {
     "views": []
    },
    "e331e1074cfa4bfda88ce58efe7112fa": {
     "views": []
    },
    "e4c529272cfc416697f282118c6e48a5": {
     "views": []
    },
    "e54617e76bda4044afdc49cf8a06cdb2": {
     "views": []
    },
    "e5c9a9c0a90b46e58a112ef8f4073373": {
     "views": []
    },
    "e733c3928e974c69a7a645c9027d8ade": {
     "views": []
    },
    "e8ef66d623bf41439231d34749e830b1": {
     "views": []
    },
    "e9431a50ddb2472ba50ba8572d84e5fc": {
     "views": []
    },
    "e99a399e38a148ed901a67ae5f0a7067": {
     "views": []
    },
    "ea0db06356dd4283aaa727b84ebce621": {
     "views": []
    },
    "eb46ae9a3fd94cb4ae31d272493d6370": {
     "views": []
    },
    "eb6f70c32121433380be3d1540547405": {
     "views": []
    },
    "ebbdff806e0c461db7a1cd6f74dc94c9": {
     "views": []
    },
    "ebfffe14e0724bbc9ec41bba086c9d17": {
     "views": []
    },
    "ec26557532b94c6da40fbb75938622c3": {
     "views": []
    },
    "ecd60d25258d4353a3b927f7e9d64cb3": {
     "views": []
    },
    "ed00b3d4cf994a809721e2e14b8378f8": {
     "views": []
    },
    "ed8acba1e9aa47a796b8878e9fec5c91": {
     "views": []
    },
    "edf179ace4674b1a82aacc55d628365a": {
     "views": []
    },
    "ee23f7ff8dae4c0d8c7b4e4d046ba9e3": {
     "views": []
    },
    "ef155a78d40f450b9f196f79594ed692": {
     "views": []
    },
    "ef823d3f5bbe4bb282737e5d23c19a1e": {
     "views": []
    },
    "f0dad5e40f9e4d47a54827efe87661aa": {
     "views": []
    },
    "f18ce24df99b4e5f982d2d113e40b608": {
     "views": []
    },
    "f1c2b50324b04d8290b9f6613cf228ff": {
     "views": []
    },
    "f29be010e34b45b49d751c8f9c925369": {
     "views": []
    },
    "f2b10c9582894f70b81e1d9b71f967f7": {
     "views": []
    },
    "f2b60663d3a846718124043111b71935": {
     "views": []
    },
    "f36e6ff2bb834bfa8bc5b04a3be7f75e": {
     "views": []
    },
    "f37a792504174f9d886f17a7324467f1": {
     "views": []
    },
    "f3949baa672841298478144a5518652a": {
     "views": []
    },
    "f40aba3a58fb4e76b3e73cb3efce5648": {
     "views": []
    },
    "f541db94e81149b38ce88e55285db81d": {
     "views": []
    },
    "f56b538b88eb46a5b33ec736b5986c72": {
     "views": []
    },
    "f638495d3ab0468991a70c90f9676a6a": {
     "views": []
    },
    "f74445be3bbb41c49657da6462f9211f": {
     "views": []
    },
    "f760aedfba67438dade7607131ac3c81": {
     "views": []
    },
    "f78d29d35f394b8daf9835e871fc258f": {
     "views": []
    },
    "f7cf901461aa42c4b8ba581e401d6489": {
     "views": []
    },
    "f804126f0c6142cc89e3e59ae33ffb69": {
     "views": []
    },
    "f865b2c5bc8647e7a8e4417ccb9b12c1": {
     "views": []
    },
    "f8db56d5845743be932c603a88cc634b": {
     "views": []
    },
    "f957c54b38d94f199fa9700fffd7b882": {
     "views": []
    },
    "f98ce3dab4204d9eb9ed3348b06ada36": {
     "views": []
    },
    "f9c4dff220474c0e9cdb8a34e4d41fee": {
     "views": []
    },
    "f9e6e579c95941cd8fd9f94f6c66bd49": {
     "views": []
    },
    "fa50affca5cf473a9d254514a6ba6ad7": {
     "views": []
    },
    "fa695a7ec8fa4d14a37ab25e087757af": {
     "views": []
    },
    "fac8ead6a4844acf964067446f406d43": {
     "views": []
    },
    "fad3bfe699bc47e3a12c6d6448cbf6c1": {
     "views": []
    },
    "fb1ff9f6939246a58a7b272c41aa1e01": {
     "views": []
    },
    "fb69c11dced8417db909ef08715b40f6": {
     "views": []
    },
    "fb98d528ce90435d9c323aa474bb0ef6": {
     "views": []
    },
    "fc7d42c83e024e0ca36cad9fc551907c": {
     "views": []
    },
    "fd2dbdec79b245ebb3c96ff763fa9d87": {
     "views": []
    },
    "fd5dd6a4cb694055818010e52d99b0a0": {
     "views": []
    },
    "fda3bbb396054750b0a4135f4e63401a": {
     "views": []
    },
    "fe2c1cbe41b848e29b312d8b3ed93267": {
     "views": []
    },
    "feac1cd8f3fa47febed8a3b86e22c748": {
     "views": []
    },
    "febe381065c646a19a51678592f14ff7": {
     "views": []
    },
    "ffc26e6c91fe490db8a99d5b28388f89": {
     "views": []
    }
   },
   "version": "1.1.2"
  }
 },
 "nbformat": 4,
 "nbformat_minor": 0
}
